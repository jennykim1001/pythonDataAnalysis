{
 "cells": [
  {
   "cell_type": "code",
   "execution_count": 19,
   "metadata": {},
   "outputs": [],
   "source": [
    "import pandas as pd"
   ]
  },
  {
   "cell_type": "markdown",
   "metadata": {},
   "source": [
    "# 시도지역코드 불러오기"
   ]
  },
  {
   "cell_type": "code",
   "execution_count": 20,
   "metadata": {},
   "outputs": [
    {
     "data": {
      "text/html": [
       "<div>\n",
       "<style scoped>\n",
       "    .dataframe tbody tr th:only-of-type {\n",
       "        vertical-align: middle;\n",
       "    }\n",
       "\n",
       "    .dataframe tbody tr th {\n",
       "        vertical-align: top;\n",
       "    }\n",
       "\n",
       "    .dataframe thead th {\n",
       "        text-align: right;\n",
       "    }\n",
       "</style>\n",
       "<table border=\"1\" class=\"dataframe\">\n",
       "  <thead>\n",
       "    <tr style=\"text-align: right;\">\n",
       "      <th></th>\n",
       "      <th>시도지역코드</th>\n",
       "      <th>지역명</th>\n",
       "    </tr>\n",
       "  </thead>\n",
       "  <tbody>\n",
       "    <tr>\n",
       "      <th>0</th>\n",
       "      <td>11</td>\n",
       "      <td>서울</td>\n",
       "    </tr>\n",
       "    <tr>\n",
       "      <th>1</th>\n",
       "      <td>26</td>\n",
       "      <td>부산</td>\n",
       "    </tr>\n",
       "    <tr>\n",
       "      <th>2</th>\n",
       "      <td>27</td>\n",
       "      <td>대구</td>\n",
       "    </tr>\n",
       "    <tr>\n",
       "      <th>3</th>\n",
       "      <td>28</td>\n",
       "      <td>인천</td>\n",
       "    </tr>\n",
       "    <tr>\n",
       "      <th>4</th>\n",
       "      <td>29</td>\n",
       "      <td>광주</td>\n",
       "    </tr>\n",
       "  </tbody>\n",
       "</table>\n",
       "</div>"
      ],
      "text/plain": [
       "   시도지역코드 지역명\n",
       "0      11  서울\n",
       "1      26  부산\n",
       "2      27  대구\n",
       "3      28  인천\n",
       "4      29  광주"
      ]
     },
     "execution_count": 20,
     "metadata": {},
     "output_type": "execute_result"
    }
   ],
   "source": [
    "sido = pd.read_csv('data\\시도지역코드.csv',encoding='EUC_kr')\n",
    "sido.head()"
   ]
  },
  {
   "cell_type": "code",
   "execution_count": 21,
   "metadata": {},
   "outputs": [
    {
     "name": "stdout",
     "output_type": "stream",
     "text": [
      "<class 'pandas.core.frame.DataFrame'>\n",
      "RangeIndex: 17 entries, 0 to 16\n",
      "Data columns (total 2 columns):\n",
      " #   Column  Non-Null Count  Dtype \n",
      "---  ------  --------------  ----- \n",
      " 0   시도지역코드  17 non-null     int64 \n",
      " 1   지역명     17 non-null     object\n",
      "dtypes: int64(1), object(1)\n",
      "memory usage: 404.0+ bytes\n"
     ]
    }
   ],
   "source": [
    "sido.info()"
   ]
  },
  {
   "cell_type": "markdown",
   "metadata": {},
   "source": [
    "# 시도별 진료정보 불러오기"
   ]
  },
  {
   "cell_type": "code",
   "execution_count": 22,
   "metadata": {},
   "outputs": [],
   "source": [
    "import os\n",
    "\n",
    "path = 'data/'\n",
    "file_list = os.listdir(path)\n",
    "# file_list\n",
    "\n",
    "df=pd.DataFrame()\n",
    "keywords = ['감기','눈병','천식','피부염']\n",
    "\n",
    "for i in file_list:\n",
    "    if i.endswith('_시도.csv'):\n",
    "        # print(i)\n",
    "        data = pd.read_csv(path+i, encoding='euc-kr')\n",
    "\n",
    "        # if '감기' in i:\n",
    "        #     data['구분']='감기'\n",
    "        # elif '눈병' in i:\n",
    "        #     data['구분']='눈병'\n",
    "        # elif '천식' in i:\n",
    "        #     data['구분']='천식'\n",
    "        # elif '피부염' in i:\n",
    "        #     data['구분']='피부염'\n",
    "        for key in keywords:\n",
    "            if key in i:\n",
    "                data['구분']=key\n",
    "                break\n",
    "           \n",
    "        df = pd.concat([df,data])\n",
    "\n"
   ]
  },
  {
   "cell_type": "code",
   "execution_count": 23,
   "metadata": {},
   "outputs": [
    {
     "data": {
      "text/plain": [
       "(141588, 4)"
      ]
     },
     "execution_count": 23,
     "metadata": {},
     "output_type": "execute_result"
    }
   ],
   "source": [
    "df.head()\n",
    "df.shape\n"
   ]
  },
  {
   "cell_type": "code",
   "execution_count": 24,
   "metadata": {},
   "outputs": [
    {
     "name": "stdout",
     "output_type": "stream",
     "text": [
      "<class 'pandas.core.frame.DataFrame'>\n",
      "Index: 141588 entries, 0 to 35396\n",
      "Data columns (total 4 columns):\n",
      " #   Column   Non-Null Count   Dtype  \n",
      "---  ------   --------------   -----  \n",
      " 0   날짜       10264 non-null   object \n",
      " 1   시도지역코드   10264 non-null   float64\n",
      " 2   발생건수(건)  10264 non-null   float64\n",
      " 3   구분       141588 non-null  object \n",
      "dtypes: float64(2), object(2)\n",
      "memory usage: 5.4+ MB\n"
     ]
    }
   ],
   "source": [
    "df.info()"
   ]
  },
  {
   "cell_type": "code",
   "execution_count": 25,
   "metadata": {},
   "outputs": [
    {
     "data": {
      "text/plain": [
       "Index(['날짜', '시도지역코드', '발생건수(건)', '구분'], dtype='object')"
      ]
     },
     "execution_count": 25,
     "metadata": {},
     "output_type": "execute_result"
    }
   ],
   "source": [
    "df.columns"
   ]
  },
  {
   "cell_type": "code",
   "execution_count": 26,
   "metadata": {},
   "outputs": [
    {
     "data": {
      "text/plain": [
       "Index(['시도지역코드', '지역명'], dtype='object')"
      ]
     },
     "execution_count": 26,
     "metadata": {},
     "output_type": "execute_result"
    }
   ],
   "source": [
    "sido.columns"
   ]
  },
  {
   "cell_type": "code",
   "execution_count": 27,
   "metadata": {},
   "outputs": [],
   "source": [
    "# 시도지역코드의 지역명 표시\n",
    "data_mearge = pd.merge(df,sido,how='left',on='시도지역코드')"
   ]
  },
  {
   "cell_type": "code",
   "execution_count": 28,
   "metadata": {},
   "outputs": [
    {
     "data": {
      "text/html": [
       "<div>\n",
       "<style scoped>\n",
       "    .dataframe tbody tr th:only-of-type {\n",
       "        vertical-align: middle;\n",
       "    }\n",
       "\n",
       "    .dataframe tbody tr th {\n",
       "        vertical-align: top;\n",
       "    }\n",
       "\n",
       "    .dataframe thead th {\n",
       "        text-align: right;\n",
       "    }\n",
       "</style>\n",
       "<table border=\"1\" class=\"dataframe\">\n",
       "  <thead>\n",
       "    <tr style=\"text-align: right;\">\n",
       "      <th></th>\n",
       "      <th>날짜</th>\n",
       "      <th>시도지역코드</th>\n",
       "      <th>발생건수(건)</th>\n",
       "      <th>구분</th>\n",
       "      <th>지역명</th>\n",
       "    </tr>\n",
       "  </thead>\n",
       "  <tbody>\n",
       "    <tr>\n",
       "      <th>0</th>\n",
       "      <td>2023-10-01</td>\n",
       "      <td>11.0</td>\n",
       "      <td>17218.0</td>\n",
       "      <td>감기</td>\n",
       "      <td>서울</td>\n",
       "    </tr>\n",
       "    <tr>\n",
       "      <th>1</th>\n",
       "      <td>2023-10-01</td>\n",
       "      <td>26.0</td>\n",
       "      <td>5699.0</td>\n",
       "      <td>감기</td>\n",
       "      <td>부산</td>\n",
       "    </tr>\n",
       "    <tr>\n",
       "      <th>2</th>\n",
       "      <td>2023-10-01</td>\n",
       "      <td>27.0</td>\n",
       "      <td>3590.0</td>\n",
       "      <td>감기</td>\n",
       "      <td>대구</td>\n",
       "    </tr>\n",
       "    <tr>\n",
       "      <th>3</th>\n",
       "      <td>2023-10-01</td>\n",
       "      <td>28.0</td>\n",
       "      <td>7524.0</td>\n",
       "      <td>감기</td>\n",
       "      <td>인천</td>\n",
       "    </tr>\n",
       "    <tr>\n",
       "      <th>4</th>\n",
       "      <td>2023-10-01</td>\n",
       "      <td>29.0</td>\n",
       "      <td>3044.0</td>\n",
       "      <td>감기</td>\n",
       "      <td>광주</td>\n",
       "    </tr>\n",
       "  </tbody>\n",
       "</table>\n",
       "</div>"
      ],
      "text/plain": [
       "           날짜  시도지역코드  발생건수(건)  구분 지역명\n",
       "0  2023-10-01    11.0  17218.0  감기  서울\n",
       "1  2023-10-01    26.0   5699.0  감기  부산\n",
       "2  2023-10-01    27.0   3590.0  감기  대구\n",
       "3  2023-10-01    28.0   7524.0  감기  인천\n",
       "4  2023-10-01    29.0   3044.0  감기  광주"
      ]
     },
     "execution_count": 28,
     "metadata": {},
     "output_type": "execute_result"
    }
   ],
   "source": [
    "data_mearge.head()"
   ]
  },
  {
   "cell_type": "code",
   "execution_count": 29,
   "metadata": {},
   "outputs": [
    {
     "name": "stdout",
     "output_type": "stream",
     "text": [
      "<class 'pandas.core.frame.DataFrame'>\n",
      "RangeIndex: 141588 entries, 0 to 141587\n",
      "Data columns (total 5 columns):\n",
      " #   Column   Non-Null Count   Dtype  \n",
      "---  ------   --------------   -----  \n",
      " 0   날짜       10264 non-null   object \n",
      " 1   시도지역코드   10264 non-null   float64\n",
      " 2   발생건수(건)  10264 non-null   float64\n",
      " 3   구분       141588 non-null  object \n",
      " 4   지역명      10264 non-null   object \n",
      "dtypes: float64(2), object(3)\n",
      "memory usage: 5.4+ MB\n"
     ]
    }
   ],
   "source": [
    "data_mearge.info()"
   ]
  },
  {
   "cell_type": "code",
   "execution_count": 30,
   "metadata": {},
   "outputs": [
    {
     "data": {
      "text/plain": [
       "array(['서울', '부산', '대구', '인천', '광주', '대전', '울산', '경기', '강원', '충북', '충남',\n",
       "       '전북', '전남', '경북', '경남', '제주', '전국', nan], dtype=object)"
      ]
     },
     "execution_count": 30,
     "metadata": {},
     "output_type": "execute_result"
    }
   ],
   "source": [
    "data_mearge['지역명'].unique()"
   ]
  },
  {
   "cell_type": "code",
   "execution_count": null,
   "metadata": {},
   "outputs": [],
   "source": []
  },
  {
   "cell_type": "code",
   "execution_count": 31,
   "metadata": {},
   "outputs": [
    {
     "data": {
      "text/html": [
       "<div>\n",
       "<style scoped>\n",
       "    .dataframe tbody tr th:only-of-type {\n",
       "        vertical-align: middle;\n",
       "    }\n",
       "\n",
       "    .dataframe tbody tr th {\n",
       "        vertical-align: top;\n",
       "    }\n",
       "\n",
       "    .dataframe thead th {\n",
       "        text-align: right;\n",
       "    }\n",
       "</style>\n",
       "<table border=\"1\" class=\"dataframe\">\n",
       "  <thead>\n",
       "    <tr style=\"text-align: right;\">\n",
       "      <th></th>\n",
       "      <th>날짜</th>\n",
       "      <th>시도지역코드</th>\n",
       "      <th>발생건수(건)</th>\n",
       "      <th>구분</th>\n",
       "      <th>지역명</th>\n",
       "      <th>년/월</th>\n",
       "    </tr>\n",
       "  </thead>\n",
       "  <tbody>\n",
       "    <tr>\n",
       "      <th>0</th>\n",
       "      <td>2023-10-01</td>\n",
       "      <td>11.0</td>\n",
       "      <td>17218.0</td>\n",
       "      <td>감기</td>\n",
       "      <td>서울</td>\n",
       "      <td>2023-10</td>\n",
       "    </tr>\n",
       "    <tr>\n",
       "      <th>1</th>\n",
       "      <td>2023-10-01</td>\n",
       "      <td>26.0</td>\n",
       "      <td>5699.0</td>\n",
       "      <td>감기</td>\n",
       "      <td>부산</td>\n",
       "      <td>2023-10</td>\n",
       "    </tr>\n",
       "    <tr>\n",
       "      <th>2</th>\n",
       "      <td>2023-10-01</td>\n",
       "      <td>27.0</td>\n",
       "      <td>3590.0</td>\n",
       "      <td>감기</td>\n",
       "      <td>대구</td>\n",
       "      <td>2023-10</td>\n",
       "    </tr>\n",
       "    <tr>\n",
       "      <th>3</th>\n",
       "      <td>2023-10-01</td>\n",
       "      <td>28.0</td>\n",
       "      <td>7524.0</td>\n",
       "      <td>감기</td>\n",
       "      <td>인천</td>\n",
       "      <td>2023-10</td>\n",
       "    </tr>\n",
       "    <tr>\n",
       "      <th>4</th>\n",
       "      <td>2023-10-01</td>\n",
       "      <td>29.0</td>\n",
       "      <td>3044.0</td>\n",
       "      <td>감기</td>\n",
       "      <td>광주</td>\n",
       "      <td>2023-10</td>\n",
       "    </tr>\n",
       "  </tbody>\n",
       "</table>\n",
       "</div>"
      ],
      "text/plain": [
       "           날짜  시도지역코드  발생건수(건)  구분 지역명      년/월\n",
       "0  2023-10-01    11.0  17218.0  감기  서울  2023-10\n",
       "1  2023-10-01    26.0   5699.0  감기  부산  2023-10\n",
       "2  2023-10-01    27.0   3590.0  감기  대구  2023-10\n",
       "3  2023-10-01    28.0   7524.0  감기  인천  2023-10\n",
       "4  2023-10-01    29.0   3044.0  감기  광주  2023-10"
      ]
     },
     "execution_count": 31,
     "metadata": {},
     "output_type": "execute_result"
    }
   ],
   "source": [
    "data_mearge['년/월'] = data_mearge['날짜'].str[:7]\n",
    "data_mearge.head()"
   ]
  },
  {
   "cell_type": "code",
   "execution_count": 32,
   "metadata": {},
   "outputs": [],
   "source": [
    "dfdata = data_mearge[data_mearge['지역명'] != '전국']"
   ]
  },
  {
   "cell_type": "code",
   "execution_count": 35,
   "metadata": {},
   "outputs": [
    {
     "data": {
      "text/html": [
       "<div>\n",
       "<style scoped>\n",
       "    .dataframe tbody tr th:only-of-type {\n",
       "        vertical-align: middle;\n",
       "    }\n",
       "\n",
       "    .dataframe tbody tr th {\n",
       "        vertical-align: top;\n",
       "    }\n",
       "\n",
       "    .dataframe thead th {\n",
       "        text-align: right;\n",
       "    }\n",
       "</style>\n",
       "<table border=\"1\" class=\"dataframe\">\n",
       "  <thead>\n",
       "    <tr style=\"text-align: right;\">\n",
       "      <th></th>\n",
       "      <th>날짜</th>\n",
       "      <th>시도지역코드</th>\n",
       "      <th>발생건수(건)</th>\n",
       "      <th>구분</th>\n",
       "      <th>지역명</th>\n",
       "      <th>년/월</th>\n",
       "    </tr>\n",
       "  </thead>\n",
       "  <tbody>\n",
       "    <tr>\n",
       "      <th>0</th>\n",
       "      <td>2023-10-01</td>\n",
       "      <td>11.0</td>\n",
       "      <td>17218.0</td>\n",
       "      <td>감기</td>\n",
       "      <td>서울</td>\n",
       "      <td>2023-10</td>\n",
       "    </tr>\n",
       "    <tr>\n",
       "      <th>1</th>\n",
       "      <td>2023-10-01</td>\n",
       "      <td>26.0</td>\n",
       "      <td>5699.0</td>\n",
       "      <td>감기</td>\n",
       "      <td>부산</td>\n",
       "      <td>2023-10</td>\n",
       "    </tr>\n",
       "    <tr>\n",
       "      <th>2</th>\n",
       "      <td>2023-10-01</td>\n",
       "      <td>27.0</td>\n",
       "      <td>3590.0</td>\n",
       "      <td>감기</td>\n",
       "      <td>대구</td>\n",
       "      <td>2023-10</td>\n",
       "    </tr>\n",
       "    <tr>\n",
       "      <th>3</th>\n",
       "      <td>2023-10-01</td>\n",
       "      <td>28.0</td>\n",
       "      <td>7524.0</td>\n",
       "      <td>감기</td>\n",
       "      <td>인천</td>\n",
       "      <td>2023-10</td>\n",
       "    </tr>\n",
       "    <tr>\n",
       "      <th>4</th>\n",
       "      <td>2023-10-01</td>\n",
       "      <td>29.0</td>\n",
       "      <td>3044.0</td>\n",
       "      <td>감기</td>\n",
       "      <td>광주</td>\n",
       "      <td>2023-10</td>\n",
       "    </tr>\n",
       "    <tr>\n",
       "      <th>...</th>\n",
       "      <td>...</td>\n",
       "      <td>...</td>\n",
       "      <td>...</td>\n",
       "      <td>...</td>\n",
       "      <td>...</td>\n",
       "      <td>...</td>\n",
       "    </tr>\n",
       "    <tr>\n",
       "      <th>141583</th>\n",
       "      <td>NaN</td>\n",
       "      <td>NaN</td>\n",
       "      <td>NaN</td>\n",
       "      <td>피부염</td>\n",
       "      <td>NaN</td>\n",
       "      <td>NaN</td>\n",
       "    </tr>\n",
       "    <tr>\n",
       "      <th>141584</th>\n",
       "      <td>NaN</td>\n",
       "      <td>NaN</td>\n",
       "      <td>NaN</td>\n",
       "      <td>피부염</td>\n",
       "      <td>NaN</td>\n",
       "      <td>NaN</td>\n",
       "    </tr>\n",
       "    <tr>\n",
       "      <th>141585</th>\n",
       "      <td>NaN</td>\n",
       "      <td>NaN</td>\n",
       "      <td>NaN</td>\n",
       "      <td>피부염</td>\n",
       "      <td>NaN</td>\n",
       "      <td>NaN</td>\n",
       "    </tr>\n",
       "    <tr>\n",
       "      <th>141586</th>\n",
       "      <td>NaN</td>\n",
       "      <td>NaN</td>\n",
       "      <td>NaN</td>\n",
       "      <td>피부염</td>\n",
       "      <td>NaN</td>\n",
       "      <td>NaN</td>\n",
       "    </tr>\n",
       "    <tr>\n",
       "      <th>141587</th>\n",
       "      <td>NaN</td>\n",
       "      <td>NaN</td>\n",
       "      <td>NaN</td>\n",
       "      <td>피부염</td>\n",
       "      <td>NaN</td>\n",
       "      <td>NaN</td>\n",
       "    </tr>\n",
       "  </tbody>\n",
       "</table>\n",
       "<p>140980 rows × 6 columns</p>\n",
       "</div>"
      ],
      "text/plain": [
       "                날짜  시도지역코드  발생건수(건)   구분  지역명      년/월\n",
       "0       2023-10-01    11.0  17218.0   감기   서울  2023-10\n",
       "1       2023-10-01    26.0   5699.0   감기   부산  2023-10\n",
       "2       2023-10-01    27.0   3590.0   감기   대구  2023-10\n",
       "3       2023-10-01    28.0   7524.0   감기   인천  2023-10\n",
       "4       2023-10-01    29.0   3044.0   감기   광주  2023-10\n",
       "...            ...     ...      ...  ...  ...      ...\n",
       "141583         NaN     NaN      NaN  피부염  NaN      NaN\n",
       "141584         NaN     NaN      NaN  피부염  NaN      NaN\n",
       "141585         NaN     NaN      NaN  피부염  NaN      NaN\n",
       "141586         NaN     NaN      NaN  피부염  NaN      NaN\n",
       "141587         NaN     NaN      NaN  피부염  NaN      NaN\n",
       "\n",
       "[140980 rows x 6 columns]"
      ]
     },
     "execution_count": 35,
     "metadata": {},
     "output_type": "execute_result"
    }
   ],
   "source": [
    "dfdata"
   ]
  },
  {
   "cell_type": "markdown",
   "metadata": {},
   "source": [
    "## 결측값 행/열 삭제\n",
    "* 변수명.dropna(axis=0/1, how='any'/'all')"
   ]
  },
  {
   "cell_type": "code",
   "execution_count": 40,
   "metadata": {},
   "outputs": [
    {
     "data": {
      "text/plain": [
       "날짜         0\n",
       "시도지역코드     0\n",
       "발생건수(건)    0\n",
       "구분         0\n",
       "지역명        0\n",
       "년/월        0\n",
       "dtype: int64"
      ]
     },
     "execution_count": 40,
     "metadata": {},
     "output_type": "execute_result"
    }
   ],
   "source": [
    "dfdata.isnull().sum()"
   ]
  },
  {
   "cell_type": "code",
   "execution_count": 39,
   "metadata": {},
   "outputs": [
    {
     "name": "stderr",
     "output_type": "stream",
     "text": [
      "C:\\Users\\user\\AppData\\Local\\Temp\\ipykernel_3228\\2155363050.py:1: SettingWithCopyWarning: \n",
      "A value is trying to be set on a copy of a slice from a DataFrame\n",
      "\n",
      "See the caveats in the documentation: https://pandas.pydata.org/pandas-docs/stable/user_guide/indexing.html#returning-a-view-versus-a-copy\n",
      "  dfdata.dropna(axis=0,how='any',inplace=True)\n"
     ]
    }
   ],
   "source": [
    "dfdata.dropna(axis=0,how='any',inplace=True)"
   ]
  },
  {
   "cell_type": "code",
   "execution_count": null,
   "metadata": {},
   "outputs": [],
   "source": []
  },
  {
   "cell_type": "code",
   "execution_count": 41,
   "metadata": {},
   "outputs": [],
   "source": [
    "# 년/월, 구분별 발생건수의 평균\n",
    "\n",
    "yearmonthdf = dfdata.groupby(['년/월','구분'],as_index=False)[['발생건수(건)']].mean()"
   ]
  },
  {
   "cell_type": "code",
   "execution_count": 43,
   "metadata": {},
   "outputs": [
    {
     "data": {
      "text/plain": [
       "array(['2023-10', '2023-11', '2023-12', '2024-01', '2024-02'],\n",
       "      dtype=object)"
      ]
     },
     "execution_count": 43,
     "metadata": {},
     "output_type": "execute_result"
    }
   ],
   "source": [
    "dfdata['년/월'].unique()"
   ]
  },
  {
   "cell_type": "code",
   "execution_count": 44,
   "metadata": {},
   "outputs": [
    {
     "data": {
      "text/html": [
       "<div>\n",
       "<style scoped>\n",
       "    .dataframe tbody tr th:only-of-type {\n",
       "        vertical-align: middle;\n",
       "    }\n",
       "\n",
       "    .dataframe tbody tr th {\n",
       "        vertical-align: top;\n",
       "    }\n",
       "\n",
       "    .dataframe thead th {\n",
       "        text-align: right;\n",
       "    }\n",
       "</style>\n",
       "<table border=\"1\" class=\"dataframe\">\n",
       "  <thead>\n",
       "    <tr style=\"text-align: right;\">\n",
       "      <th></th>\n",
       "      <th>년/월</th>\n",
       "      <th>구분</th>\n",
       "      <th>발생건수(건)</th>\n",
       "    </tr>\n",
       "  </thead>\n",
       "  <tbody>\n",
       "    <tr>\n",
       "      <th>0</th>\n",
       "      <td>2023-10</td>\n",
       "      <td>감기</td>\n",
       "      <td>29373.596349</td>\n",
       "    </tr>\n",
       "    <tr>\n",
       "      <th>1</th>\n",
       "      <td>2023-10</td>\n",
       "      <td>눈병</td>\n",
       "      <td>2077.245436</td>\n",
       "    </tr>\n",
       "    <tr>\n",
       "      <th>2</th>\n",
       "      <td>2023-10</td>\n",
       "      <td>천식</td>\n",
       "      <td>1099.300203</td>\n",
       "    </tr>\n",
       "    <tr>\n",
       "      <th>3</th>\n",
       "      <td>2023-10</td>\n",
       "      <td>피부염</td>\n",
       "      <td>2833.022312</td>\n",
       "    </tr>\n",
       "    <tr>\n",
       "      <th>4</th>\n",
       "      <td>2023-11</td>\n",
       "      <td>감기</td>\n",
       "      <td>35412.163866</td>\n",
       "    </tr>\n",
       "  </tbody>\n",
       "</table>\n",
       "</div>"
      ],
      "text/plain": [
       "       년/월   구분       발생건수(건)\n",
       "0  2023-10   감기  29373.596349\n",
       "1  2023-10   눈병   2077.245436\n",
       "2  2023-10   천식   1099.300203\n",
       "3  2023-10  피부염   2833.022312\n",
       "4  2023-11   감기  35412.163866"
      ]
     },
     "execution_count": 44,
     "metadata": {},
     "output_type": "execute_result"
    }
   ],
   "source": [
    "yearmonthdf.head()"
   ]
  },
  {
   "cell_type": "code",
   "execution_count": 49,
   "metadata": {},
   "outputs": [
    {
     "name": "stdout",
     "output_type": "stream",
     "text": [
      "       년/월   구분       발생건수(건)\n",
      "4  2023-11   감기  35412.163866\n",
      "5  2023-11   눈병   1959.560924\n",
      "6  2023-11   천식   1288.512605\n",
      "7  2023-11  피부염   2609.516807\n"
     ]
    },
    {
     "data": {
      "text/plain": [
       "<Axes: xlabel='구분'>"
      ]
     },
     "execution_count": 49,
     "metadata": {},
     "output_type": "execute_result"
    },
    {
     "data": {
      "image/png": "[encoded data removed]",
      "text/plain": [
       "<Figure size 640x480 with 1 Axes>"
      ]
     },
     "metadata": {},
     "output_type": "display_data"
    }
   ],
   "source": [
    "import matplotlib.pyplot as plt\n",
    "plt.rc('font',family='malgun gothic')\n",
    "\n",
    "yearmonthin = input('조회 년/월 입력>> ')\n",
    "yearmonthsearch = yearmonthdf[yearmonthdf['년/월']==yearmonthin]\n",
    "print(yearmonthsearch)\n",
    "yearmonthsearch.plot(kind='bar',x='구분', rot=0, title=yearmonthin+' 현황')"
   ]
  }
 ],
 "metadata": {
  "kernelspec": {
   "display_name": "Python 3",
   "language": "python",
   "name": "python3"
  },
  "language_info": {
   "codemirror_mode": {
    "name": "ipython",
    "version": 3
   },
   "file_extension": ".py",
   "mimetype": "text/x-python",
   "name": "python",
   "nbconvert_exporter": "python",
   "pygments_lexer": "ipython3",
   "version": "3.13.1"
  }
 },
 "nbformat": 4,
 "nbformat_minor": 2
}
