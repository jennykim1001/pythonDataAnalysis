{
 "cells": [
  {
   "cell_type": "code",
   "execution_count": null,
   "metadata": {},
   "outputs": [],
   "source": [
    "%pip install requests"
   ]
  },
  {
   "cell_type": "code",
   "execution_count": 55,
   "metadata": {},
   "outputs": [],
   "source": [
    "from bs4 import BeautifulSoup\n",
    "import requests\n",
    "import pandas as pd\n",
    "\n",
    "quote_wise = []\n",
    "quote_author=[]\n",
    "for page in range(1,3):\n",
    "    url='https://quotes.toscrape.com/tag/humor/page/'+str(page)+'/'\n",
    "    html = requests.get(url).text\n",
    "    soup = BeautifulSoup(html)\n",
    "\n",
    "    # quote= soup.find_all('div',class_='quote')\n",
    "    # for i in range(len(quote)):\n",
    "    #     wise = quote[i].find('span',class_='text')\n",
    "    #     print(wise.text)\n",
    "\n",
    "    quote1= soup.select('div.quote > span.text')\n",
    "    # for i in quote:\n",
    "    #     print(i.text)\n",
    "    \n",
    "    for i in quote1:\n",
    "        # print(i)\n",
    "        quote_wise.append(i.text)\n",
    "\n",
    "    quote2 = soup.select('div.quote > span > small.author')\n",
    "    for i in quote2:\n",
    "       quote_author.append(i.text)\n",
    "\n",
    "df = pd.DataFrame({'wise':quote_wise,\n",
    "            'author':quote_author}) \n",
    "\n",
    "df.to_csv('quote.csv')"
   ]
  },
  {
   "cell_type": "code",
   "execution_count": 45,
   "metadata": {},
   "outputs": [
    {
     "name": "stdout",
     "output_type": "stream",
     "text": [
      "W.C. Fields\n",
      "Jane Austen\n"
     ]
    }
   ],
   "source": [
    "quote_author = soup.select('div.quote > span > small.author')\n",
    "for i in quote_author:\n",
    "    print(i.text)"
   ]
  }
 ],
 "metadata": {
  "kernelspec": {
   "display_name": "Python 3",
   "language": "python",
   "name": "python3"
  },
  "language_info": {
   "codemirror_mode": {
    "name": "ipython",
    "version": 3
   },
   "file_extension": ".py",
   "mimetype": "text/x-python",
   "name": "python",
   "nbconvert_exporter": "python",
   "pygments_lexer": "ipython3",
   "version": "3.13.1"
  }
 },
 "nbformat": 4,
 "nbformat_minor": 2
}
