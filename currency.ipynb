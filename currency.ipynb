{
 "cells": [
  {
   "cell_type": "code",
   "execution_count": 2,
   "metadata": {},
   "outputs": [
    {
     "name": "stdout",
     "output_type": "stream",
     "text": [
      "Collecting html5lib\n",
      "  Downloading html5lib-1.1-py2.py3-none-any.whl.metadata (16 kB)\n",
      "Requirement already satisfied: six>=1.9 in c:\\users\\user\\appdata\\roaming\\python\\python313\\site-packages (from html5lib) (1.17.0)\n",
      "Collecting webencodings (from html5lib)\n",
      "  Downloading webencodings-0.5.1-py2.py3-none-any.whl.metadata (2.1 kB)\n",
      "Downloading html5lib-1.1-py2.py3-none-any.whl (112 kB)\n",
      "Downloading webencodings-0.5.1-py2.py3-none-any.whl (11 kB)\n",
      "Installing collected packages: webencodings, html5lib\n",
      "Successfully installed html5lib-1.1 webencodings-0.5.1\n",
      "Note: you may need to restart the kernel to use updated packages.\n"
     ]
    },
    {
     "name": "stderr",
     "output_type": "stream",
     "text": [
      "\n",
      "[notice] A new release of pip is available: 24.3.1 -> 25.0\n",
      "[notice] To update, run: python.exe -m pip install --upgrade pip\n"
     ]
    }
   ],
   "source": [
    "%pip install html5lib"
   ]
  },
  {
   "cell_type": "code",
   "execution_count": 7,
   "metadata": {},
   "outputs": [
    {
     "name": "stderr",
     "output_type": "stream",
     "text": [
      "c:\\Users\\user\\AppData\\Local\\Programs\\Python\\Python313\\Lib\\site-packages\\bs4\\__init__.py:228: UserWarning: You provided Unicode markup but also provided a value for from_encoding. Your from_encoding will be ignored.\n",
      "  warnings.warn(\"You provided Unicode markup but also provided a value for from_encoding. Your from_encoding will be ignored.\")\n"
     ]
    }
   ],
   "source": [
    "import pandas as pd\n",
    "# 네이버 금융의 환율 정보 웹사이트 주소\n",
    "url = 'https://finance.naver.com/marketindex/exchangeList.naver'\n",
    "dfs = pd.read_html(url, encoding='cp949', header=1)\n"
   ]
  },
  {
   "cell_type": "code",
   "execution_count": 23,
   "metadata": {},
   "outputs": [
    {
     "name": "stderr",
     "output_type": "stream",
     "text": [
      "c:\\Users\\user\\AppData\\Local\\Programs\\Python\\Python313\\Lib\\site-packages\\bs4\\__init__.py:228: UserWarning: You provided Unicode markup but also provided a value for from_encoding. Your from_encoding will be ignored.\n",
      "  warnings.warn(\"You provided Unicode markup but also provided a value for from_encoding. Your from_encoding will be ignored.\")\n",
      "c:\\Users\\user\\AppData\\Local\\Programs\\Python\\Python313\\Lib\\site-packages\\bs4\\__init__.py:228: UserWarning: You provided Unicode markup but also provided a value for from_encoding. Your from_encoding will be ignored.\n",
      "  warnings.warn(\"You provided Unicode markup but also provided a value for from_encoding. Your from_encoding will be ignored.\")\n",
      "c:\\Users\\user\\AppData\\Local\\Programs\\Python\\Python313\\Lib\\site-packages\\bs4\\__init__.py:228: UserWarning: You provided Unicode markup but also provided a value for from_encoding. Your from_encoding will be ignored.\n",
      "  warnings.warn(\"You provided Unicode markup but also provided a value for from_encoding. Your from_encoding will be ignored.\")\n"
     ]
    },
    {
     "name": "stdout",
     "output_type": "stream",
     "text": [
      "           날짜   매매기준율  전일대비     사실 때     파실 때   보내실 때   받으실 때\n",
      "0  2025.01.31  1455.2   9.2  1480.66  1429.74  1469.4  1441.0\n",
      "1  2025.01.24  1446.0   9.5  1471.30  1420.70  1460.1  1431.9\n",
      "2  2025.01.23  1436.5   0.5  1461.63  1411.37  1450.5  1422.5\n",
      "3  2025.01.22  1437.0   0.5  1462.14  1411.86  1451.0  1423.0\n",
      "4  2025.01.21  1436.5   4.5  1461.63  1411.37  1450.5  1422.5\n",
      "5  2025.01.20  1441.0  18.5  1466.21  1415.79  1455.1  1426.9\n",
      "6  2025.01.17  1459.5   2.0  1485.04  1433.96  1473.8  1445.2\n",
      "7  2025.01.16  1457.5   1.5  1483.00  1432.00  1471.7  1443.3\n",
      "8  2025.01.15  1456.0   5.0  1481.48  1430.52  1470.2  1441.8\n",
      "9  2025.01.14  1461.0   7.0  1486.56  1435.44  1475.3  1446.7\n",
      "0  2025.01.13  1468.0   6.8  1493.69  1442.31  1482.3  1453.7\n",
      "1  2025.01.10  1474.8  14.1  1500.60  1449.00  1489.2  1460.4\n",
      "2  2025.01.09  1460.7   0.3  1486.26  1435.14  1475.0  1446.4\n",
      "3  2025.01.08  1461.0   6.5  1486.56  1435.44  1475.3  1446.7\n",
      "4  2025.01.07  1454.5   8.4  1479.95  1429.05  1468.7  1440.3\n",
      "5  2025.01.06  1462.9   8.1  1488.50  1437.30  1477.2  1448.6\n",
      "6  2025.01.03  1471.0   0.5  1496.74  1445.26  1485.4  1456.6\n",
      "7  2025.01.02  1471.5   5.5  1497.25  1445.75  1485.9  1457.1\n",
      "8  2024.12.31  1477.0   5.2  1502.84  1451.16  1491.4  1462.6\n",
      "9  2024.12.30  1471.8   4.2  1497.55  1446.05  1486.2  1457.4\n",
      "0  2024.12.27  1476.0   6.8  1501.83  1450.17  1490.4  1461.6\n",
      "1  2024.12.26  1469.2  10.0  1494.91  1443.49  1483.5  1454.9\n",
      "2  2024.12.24  1459.2   6.6  1484.73  1433.67  1473.5  1444.9\n",
      "3  2024.12.23  1452.6   3.1  1478.02  1427.18  1466.8  1438.4\n",
      "4  2024.12.20  1449.5   1.5  1474.86  1424.14  1463.7  1435.3\n",
      "5  2024.12.19  1448.0   3.7  1473.34  1422.66  1462.1  1433.9\n",
      "6  2024.12.18  1451.7  13.5  1477.10  1426.30  1465.9  1437.5\n",
      "7  2024.12.17  1438.2   0.3  1463.36  1413.04  1452.2  1424.2\n",
      "8  2024.12.16  1438.5   2.3  1463.67  1413.33  1452.5  1424.5\n",
      "9  2024.12.13  1436.2   4.4  1461.33  1411.07  1450.2  1422.2\n",
      "0  2024.12.12  1431.8   1.3  1456.85  1406.75  1445.8  1417.8\n",
      "1  2024.12.11  1430.5   5.0  1455.53  1405.47  1444.5  1416.5\n",
      "2  2024.12.10  1435.5   3.5  1460.62  1410.38  1449.5  1421.5\n",
      "3  2024.12.09  1432.0   8.0  1457.06  1406.94  1446.0  1418.0\n",
      "4  2024.12.06  1424.0   7.5  1448.92  1399.08  1437.9  1410.1\n",
      "5  2024.12.05  1416.5   3.0  1441.28  1391.72  1430.3  1402.7\n",
      "6  2024.12.04  1413.5   4.0  1438.23  1388.77  1427.3  1399.7\n",
      "7  2024.12.03  1417.5  11.0  1442.30  1392.70  1431.3  1403.7\n",
      "8  2024.12.02  1406.5  10.0  1431.11  1381.89  1420.2  1392.8\n",
      "9  2024.11.29  1396.5   0.0  1420.93  1372.07  1410.1  1382.9\n"
     ]
    },
    {
     "name": "stderr",
     "output_type": "stream",
     "text": [
      "c:\\Users\\user\\AppData\\Local\\Programs\\Python\\Python313\\Lib\\site-packages\\bs4\\__init__.py:228: UserWarning: You provided Unicode markup but also provided a value for from_encoding. Your from_encoding will be ignored.\n",
      "  warnings.warn(\"You provided Unicode markup but also provided a value for from_encoding. Your from_encoding will be ignored.\")\n"
     ]
    }
   ],
   "source": [
    "base_url = 'https://finance.naver.com/marketindex/exchangeDailyQuote.naver?marketindexCd=FX_USDKRW&'\n",
    "\n",
    "df = pd.DataFrame()\n",
    "for page_num in range(1,5):\n",
    "    url = f'{base_url}page={page_num}'\n",
    "    dfs = pd.read_html(url, encoding='cp949',header=1)\n",
    "    df = pd.concat([df,dfs[0]])\n",
    "    # print(dfs)\n",
    "\n",
    "print(df)"
   ]
  }
 ],
 "metadata": {
  "kernelspec": {
   "display_name": "Python 3",
   "language": "python",
   "name": "python3"
  },
  "language_info": {
   "codemirror_mode": {
    "name": "ipython",
    "version": 3
   },
   "file_extension": ".py",
   "mimetype": "text/x-python",
   "name": "python",
   "nbconvert_exporter": "python",
   "pygments_lexer": "ipython3",
   "version": "3.13.1"
  }
 },
 "nbformat": 4,
 "nbformat_minor": 2
}
